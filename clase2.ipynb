{
 "cells": [
  {
   "attachments": {},
   "cell_type": "markdown",
   "metadata": {},
   "source": [
    "# Clase 2\n",
    "Velocidad en caída libre suponinedo que la velocidad inicial es $v_0 = 0$ m/s\n",
    "$$ v = g t $$"
   ]
  },
  {
   "cell_type": "code",
   "execution_count": 1,
   "metadata": {},
   "outputs": [],
   "source": [
    "def velocidad_caida_libre(t, g=9.8):\n",
    "    \"\"\"\n",
    "    Calcula la velocidad de caída libre para un objeto que parte del reposo\n",
    "\n",
    "    Variables:\n",
    "        t: float\n",
    "        tiempo en segundos\n",
    "        g: float\n",
    "        constante de gravedad\n",
    "    \n",
    "    return la velocidad al tiempo t:\n",
    "    \"\"\"\n",
    "    return g*t\n"
   ]
  },
  {
   "cell_type": "code",
   "execution_count": 56,
   "metadata": {},
   "outputs": [
    {
     "data": {
      "text/plain": [
       "[0, 1, 2, 3, 4, 5, 6, 7, 8, 9, 10]"
      ]
     },
     "execution_count": 56,
     "metadata": {},
     "output_type": "execute_result"
    }
   ],
   "source": [
    "tiempos = []\n",
    "for t in range(11):\n",
    "    tiempos.append(t)\n",
    "\n",
    "tiempos"
   ]
  },
  {
   "attachments": {},
   "cell_type": "markdown",
   "metadata": {},
   "source": [
    "Definimos gravedades para diferentes planetas"
   ]
  },
  {
   "cell_type": "code",
   "execution_count": 3,
   "metadata": {},
   "outputs": [],
   "source": [
    "g_tierra = 9.8\n",
    "g_marte = 3.71\n",
    "g_jupiter = 24.79\n",
    "g_pluton = 0.62"
   ]
  },
  {
   "cell_type": "code",
   "execution_count": 6,
   "metadata": {},
   "outputs": [
    {
     "data": {
      "text/plain": [
       "[0.0,\n",
       " 9.8,\n",
       " 19.6,\n",
       " 29.400000000000002,\n",
       " 39.2,\n",
       " 49.0,\n",
       " 58.800000000000004,\n",
       " 68.60000000000001,\n",
       " 78.4,\n",
       " 88.2,\n",
       " 98.0]"
      ]
     },
     "execution_count": 6,
     "metadata": {},
     "output_type": "execute_result"
    }
   ],
   "source": [
    "velocidades_tierra = []\n",
    "for t in tiempos:\n",
    "    velocidades_tierra.append(velocidad_caida_libre(t, g=g_tierra))\n",
    "    \n",
    "velocidades_tierra"
   ]
  },
  {
   "cell_type": "code",
   "execution_count": 8,
   "metadata": {},
   "outputs": [],
   "source": [
    "def aplica_velocidad(tiempos, g):\n",
    "    velocidad = []\n",
    "    for t in tiempos:\n",
    "        velocidad.append(velocidad_caida_libre(t,g))\n",
    "    \n",
    "    return velocidad"
   ]
  },
  {
   "cell_type": "code",
   "execution_count": 10,
   "metadata": {},
   "outputs": [
    {
     "data": {
      "text/plain": [
       "[0.0,\n",
       " 9.8,\n",
       " 19.6,\n",
       " 29.400000000000002,\n",
       " 39.2,\n",
       " 49.0,\n",
       " 58.800000000000004,\n",
       " 68.60000000000001,\n",
       " 78.4,\n",
       " 88.2,\n",
       " 98.0]"
      ]
     },
     "execution_count": 10,
     "metadata": {},
     "output_type": "execute_result"
    }
   ],
   "source": [
    "velocidades_tierra = aplica_velocidad(tiempos,g=g_tierra)\n",
    "velocidades_tierra"
   ]
  },
  {
   "cell_type": "code",
   "execution_count": 16,
   "metadata": {},
   "outputs": [
    {
     "data": {
      "text/plain": [
       "29.4"
      ]
     },
     "execution_count": 16,
     "metadata": {},
     "output_type": "execute_result"
    }
   ],
   "source": [
    "round(velocidades_tierra[3],3)"
   ]
  },
  {
   "cell_type": "code",
   "execution_count": 17,
   "metadata": {},
   "outputs": [],
   "source": [
    "velocidades_marte = aplica_velocidad(tiempos,g=g_marte)\n",
    "velocidades_jupiter = aplica_velocidad(tiempos, g=g_jupiter)\n",
    "velocidades_pluton = aplica_velocidad(tiempos, g=g_pluton)"
   ]
  },
  {
   "cell_type": "code",
   "execution_count": 18,
   "metadata": {},
   "outputs": [
    {
     "data": {
      "text/plain": [
       "[0.0,\n",
       " 24.79,\n",
       " 49.58,\n",
       " 74.37,\n",
       " 99.16,\n",
       " 123.94999999999999,\n",
       " 148.74,\n",
       " 173.53,\n",
       " 198.32,\n",
       " 223.10999999999999,\n",
       " 247.89999999999998]"
      ]
     },
     "execution_count": 18,
     "metadata": {},
     "output_type": "execute_result"
    }
   ],
   "source": [
    "velocidades_jupiter"
   ]
  },
  {
   "cell_type": "code",
   "execution_count": 23,
   "metadata": {},
   "outputs": [
    {
     "name": "stdout",
     "output_type": "stream",
     "text": [
      "tiempo\tg_tierra: 9.8\tg_marte: 3.71\tg_jupiter: 24.79\tg_pluton: 0.62\n"
     ]
    }
   ],
   "source": [
    "titulo = 'tiempo' + '\\tg_tierra: ' + str(g_tierra) + '\\tg_marte: ' + str(g_marte) + '\\tg_jupiter: ' + str(g_jupiter) + '\\tg_pluton: ' + str(g_pluton)\n",
    "print(titulo)"
   ]
  },
  {
   "cell_type": "code",
   "execution_count": 27,
   "metadata": {},
   "outputs": [
    {
     "name": "stdout",
     "output_type": "stream",
     "text": [
      "tiempo\tg_tierra: 9.8\tg_marte: 3.71\tg_jupiter: 24.79\tg_pluton: 0.62\n",
      "0 seg \t 0.0 m/s \t 0.0 m/s \t 0.0 m/s \t 0.0 m/s\n",
      "1 seg \t 9.8 m/s \t 3.71 m/s \t 24.79 m/s \t 0.62 m/s\n",
      "2 seg \t 19.6 m/s \t 7.42 m/s \t 49.58 m/s \t 1.24 m/s\n",
      "3 seg \t 29.4 m/s \t 11.13 m/s \t 74.37 m/s \t 1.86 m/s\n",
      "4 seg \t 39.2 m/s \t 14.84 m/s \t 99.16 m/s \t 2.48 m/s\n",
      "5 seg \t 49.0 m/s \t 18.55 m/s \t 123.95 m/s \t 3.1 m/s\n",
      "6 seg \t 58.8 m/s \t 22.26 m/s \t 148.74 m/s \t 3.72 m/s\n",
      "7 seg \t 68.6 m/s \t 25.97 m/s \t 173.53 m/s \t 4.34 m/s\n",
      "8 seg \t 78.4 m/s \t 29.68 m/s \t 198.32 m/s \t 4.96 m/s\n",
      "9 seg \t 88.2 m/s \t 33.39 m/s \t 223.11 m/s \t 5.58 m/s\n",
      "10 seg \t 98.0 m/s \t 37.1 m/s \t 247.9 m/s \t 6.2 m/s\n"
     ]
    }
   ],
   "source": [
    "print(titulo)\n",
    "for t, v_tierra, v_marte, v_jupiter, v_pluton in zip(tiempos, velocidades_tierra, velocidades_marte, velocidades_jupiter, velocidades_pluton):\n",
    "    print(t,'seg', '\\t', round(v_tierra,2), 'm/s', '\\t', round(v_marte,2), 'm/s', '\\t', round(v_jupiter, 2), 'm/s', '\\t', round(v_pluton,2), 'm/s')"
   ]
  },
  {
   "cell_type": "code",
   "execution_count": 28,
   "metadata": {},
   "outputs": [
    {
     "name": "stdout",
     "output_type": "stream",
     "text": [
      "0 0.0 0.0 0.0 0.0\n",
      "1 9.8 3.71 24.79 0.62\n",
      "2 19.6 7.42 49.58 1.24\n",
      "3 29.400000000000002 11.129999999999999 74.37 1.8599999999999999\n",
      "4 39.2 14.84 99.16 2.48\n",
      "5 49.0 18.55 123.94999999999999 3.1\n",
      "6 58.800000000000004 22.259999999999998 148.74 3.7199999999999998\n",
      "7 68.60000000000001 25.97 173.53 4.34\n",
      "8 78.4 29.68 198.32 4.96\n",
      "9 88.2 33.39 223.10999999999999 5.58\n",
      "10 98.0 37.1 247.89999999999998 6.2\n"
     ]
    }
   ],
   "source": [
    "for t, v_tierra, v_marte, v_jupiter, v_pluton in zip(tiempos, velocidades_tierra, velocidades_marte, velocidades_jupiter, velocidades_pluton):\n",
    "    print(t, v_tierra, v_marte, v_jupiter, v_pluton)"
   ]
  },
  {
   "cell_type": "code",
   "execution_count": 29,
   "metadata": {},
   "outputs": [],
   "source": [
    "v1, v2, v3, v4 = [1,2,3,4]"
   ]
  },
  {
   "cell_type": "code",
   "execution_count": 34,
   "metadata": {},
   "outputs": [
    {
     "data": {
      "text/plain": [
       "'Tiempo     g_tierra: 9.8    g_marte: 3.71    g_jupiter: 24.79    g_pluton: 0.62'"
      ]
     },
     "execution_count": 34,
     "metadata": {},
     "output_type": "execute_result"
    }
   ],
   "source": [
    "'Tiempo     g_tierra: {}    g_marte: {}    g_jupiter: {}    g_pluton: {}'.format(g_tierra, g_marte, g_jupiter, g_pluton)"
   ]
  },
  {
   "cell_type": "code",
   "execution_count": 42,
   "metadata": {},
   "outputs": [
    {
     "name": "stdout",
     "output_type": "stream",
     "text": [
      "Tiempo[seg]     g_tierra: 9.8[m/s^2]    g_marte: 3.71[m/s^2]    g_jupiter: 24.79[m/s^2]    g_pluton: 0.62[m/s^2]\n"
     ]
    }
   ],
   "source": [
    "titulo = f'Tiempo[seg]     g_tierra: {g_tierra}[m/s^2]    g_marte: {g_marte}[m/s^2]    g_jupiter: {g_jupiter}[m/s^2]    g_pluton: {g_pluton}[m/s^2]'\n",
    "print(titulo)"
   ]
  },
  {
   "cell_type": "code",
   "execution_count": 45,
   "metadata": {},
   "outputs": [
    {
     "name": "stdout",
     "output_type": "stream",
     "text": [
      "Tiempo[seg]     g_tierra: 9.8[m/s^2]    g_marte: 3.71[m/s^2]    g_jupiter: 24.79[m/s^2]    g_pluton: 0.62[m/s^2]\n",
      "0.5 s    0.0 [m/s]    0.0 [m/s]    0.0 [m/s]    0.0 [m/s]\n",
      "1.0 s    9.8 [m/s]    3.71 [m/s]    24.79 [m/s]    0.62 [m/s]\n",
      "1.5 s    19.6 [m/s]    7.42 [m/s]    49.58 [m/s]    1.24 [m/s]\n",
      "2.0 s    29.4 [m/s]    11.13 [m/s]    74.37 [m/s]    1.86 [m/s]\n",
      "2.5 s    39.2 [m/s]    14.84 [m/s]    99.16 [m/s]    2.48 [m/s]\n",
      "3.0 s    49.0 [m/s]    18.55 [m/s]    123.95 [m/s]    3.1 [m/s]\n",
      "3.5 s    58.8 [m/s]    22.26 [m/s]    148.74 [m/s]    3.72 [m/s]\n",
      "4.0 s    68.6 [m/s]    25.97 [m/s]    173.53 [m/s]    4.34 [m/s]\n",
      "4.5 s    78.4 [m/s]    29.68 [m/s]    198.32 [m/s]    4.96 [m/s]\n",
      "5.0 s    88.2 [m/s]    33.39 [m/s]    223.11 [m/s]    5.58 [m/s]\n",
      "5.5 s    98.0 [m/s]    37.1 [m/s]    247.9 [m/s]    6.2 [m/s]\n"
     ]
    }
   ],
   "source": [
    "print(titulo)\n",
    "for t, v_tierra, v_marte, v_jupiter, v_pluton in zip(tiempos, velocidades_tierra, velocidades_marte, velocidades_jupiter, velocidades_pluton):\n",
    "    print(f'{t} s    {round(v_tierra,2)} [m/s]    {round(v_marte,2)} [m/s]    {round(v_jupiter,2)} [m/s]    {round(v_pluton,2)} [m/s]')"
   ]
  },
  {
   "attachments": {},
   "cell_type": "markdown",
   "metadata": {},
   "source": [
    "## Funciones con multiples salidas"
   ]
  },
  {
   "cell_type": "code",
   "execution_count": 46,
   "metadata": {},
   "outputs": [],
   "source": [
    "def coordenadas2D(x,y):\n",
    "    return x,y\n",
    "\n",
    "p1 = coordenadas2D(1,-1)"
   ]
  },
  {
   "cell_type": "code",
   "execution_count": 48,
   "metadata": {},
   "outputs": [
    {
     "data": {
      "text/plain": [
       "1"
      ]
     },
     "execution_count": 48,
     "metadata": {},
     "output_type": "execute_result"
    }
   ],
   "source": [
    "p1[0]"
   ]
  },
  {
   "cell_type": "code",
   "execution_count": 49,
   "metadata": {},
   "outputs": [],
   "source": [
    "lista = [[1,2,3],['hola', 2, 'hi']]"
   ]
  },
  {
   "cell_type": "code",
   "execution_count": 53,
   "metadata": {},
   "outputs": [
    {
     "name": "stdout",
     "output_type": "stream",
     "text": [
      "<class 'int'>\n",
      "<class 'str'>\n"
     ]
    }
   ],
   "source": [
    "for L in lista:\n",
    "    print(type(L[0]))"
   ]
  },
  {
   "attachments": {},
   "cell_type": "markdown",
   "metadata": {},
   "source": [
    "# Graficación "
   ]
  },
  {
   "cell_type": "code",
   "execution_count": 54,
   "metadata": {},
   "outputs": [],
   "source": [
    "import matplotlib.pyplot as plt\n",
    "#%matplotlib inline"
   ]
  },
  {
   "cell_type": "code",
   "execution_count": 55,
   "metadata": {},
   "outputs": [
    {
     "data": {
      "text/plain": [
       "[0.5, 1.0, 1.5, 2.0, 2.5, 3.0, 3.5, 4.0, 4.5, 5.0, 5.5]"
      ]
     },
     "execution_count": 55,
     "metadata": {},
     "output_type": "execute_result"
    }
   ],
   "source": [
    "tiempos"
   ]
  },
  {
   "cell_type": "code",
   "execution_count": 100,
   "metadata": {},
   "outputs": [
    {
     "data": {
      "image/png": "[encoded data removed]",
      "text/plain": [
       "<Figure size 640x480 with 1 Axes>"
      ]
     },
     "metadata": {},
     "output_type": "display_data"
    }
   ],
   "source": [
    "plt.plot(tiempos, velocidades_tierra, '-', label='Tierra', linewidth=2, zorder=1)\n",
    "plt.plot(tiempos, velocidades_marte, '-', label='Marte', linewidth=2, zorder=2)\n",
    "plt.plot(tiempos, velocidades_jupiter, '-', label='Jupiter', linewidth=2, zorder=3)\n",
    "plt.plot(tiempos, velocidades_pluton, '-', label='Pluton', linewidth=2, zorder=4)\n",
    "plt.xlabel('tiempo [s]',fontsize=15);\n",
    "plt.ylabel('velocidad [m/s]', fontsize=15);\n",
    "plt.xticks(fontsize=14)\n",
    "plt.yticks([0,50, 100, 150,200, 250],['$v_0=0$',50, 100, 150,200, 250], fontsize=14)\n",
    "plt.xticks([0, 2, 4, 6, 8, 10],[0, 2, 4, '$t_y$', 8, 10], fontsize=14)\n",
    "plt.text(4, 180, '$\\mathcal{v = gt}$',fontsize=15)\n",
    "plt.vlines(6, 0,250, zorder=0.5, colors='y', linestyles='--')\n",
    "plt.xlim(0,10)\n",
    "plt.ylim(-5,250)\n",
    "plt.legend(fontsize=15, frameon=True, loc=2, ncol=2);"
   ]
  },
  {
   "cell_type": "code",
   "execution_count": null,
   "metadata": {},
   "outputs": [],
   "source": []
  }
 ],
 "metadata": {
  "kernelspec": {
   "display_name": "base",
   "language": "python",
   "name": "python3"
  },
  "language_info": {
   "codemirror_mode": {
    "name": "ipython",
    "version": 3
   },
   "file_extension": ".py",
   "mimetype": "text/x-python",
   "name": "python",
   "nbconvert_exporter": "python",
   "pygments_lexer": "ipython3",
   "version": "3.9.12"
  },
  "orig_nbformat": 4
 },
 "nbformat": 4,
 "nbformat_minor": 2
}
